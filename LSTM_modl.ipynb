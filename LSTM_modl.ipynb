{
 "cells": [
  {
   "cell_type": "code",
   "execution_count": 9,
   "id": "409632a1",
   "metadata": {},
   "outputs": [],
   "source": [
    "import numpy as  np\n",
    "import pandas as pd\n",
    "import matplotlib.pyplot as plt\n",
    "import pandas_datareader as data\n"
   ]
  },
  {
   "cell_type": "code",
   "execution_count": 10,
   "id": "6676f4bf",
   "metadata": {},
   "outputs": [
    {
     "name": "stdout",
     "output_type": "stream",
     "text": [
      "[*********************100%***********************]  1 of 1 completed\n",
      "                Open      High       Low     Close  Adj Close     Volume\n",
      "Date                                                                    \n",
      "2000-01-03  0.936384  1.004464  0.907924  0.999442   0.849469  535796800\n",
      "2000-01-04  0.966518  0.987723  0.903460  0.915179   0.777850  512377600\n",
      "2000-01-05  0.926339  0.987165  0.919643  0.928571   0.789232  778321600\n",
      "2000-01-06  0.947545  0.955357  0.848214  0.848214   0.720933  767972800\n",
      "2000-01-07  0.861607  0.901786  0.852679  0.888393   0.755083  460734400\n"
     ]
    }
   ],
   "source": [
    "import yfinance as yf\n",
    "\n",
    "start = '2000-01-01'\n",
    "end = '2019-01-01'\n",
    "\n",
    "try:\n",
    "    df = yf.download('AAPL', start=start, end=end)\n",
    "    print(df.head())\n",
    "except Exception as e:\n",
    "    print(f\"An error occurred: {e}\")\n"
   ]
  },
  {
   "cell_type": "code",
   "execution_count": 11,
   "id": "b56d6533",
   "metadata": {},
   "outputs": [
    {
     "data": {
      "text/html": [
       "<div>\n",
       "<style scoped>\n",
       "    .dataframe tbody tr th:only-of-type {\n",
       "        vertical-align: middle;\n",
       "    }\n",
       "\n",
       "    .dataframe tbody tr th {\n",
       "        vertical-align: top;\n",
       "    }\n",
       "\n",
       "    .dataframe thead th {\n",
       "        text-align: right;\n",
       "    }\n",
       "</style>\n",
       "<table border=\"1\" class=\"dataframe\">\n",
       "  <thead>\n",
       "    <tr style=\"text-align: right;\">\n",
       "      <th></th>\n",
       "      <th>Date</th>\n",
       "      <th>Open</th>\n",
       "      <th>High</th>\n",
       "      <th>Low</th>\n",
       "      <th>Close</th>\n",
       "      <th>Adj Close</th>\n",
       "      <th>Volume</th>\n",
       "    </tr>\n",
       "  </thead>\n",
       "  <tbody>\n",
       "    <tr>\n",
       "      <th>4774</th>\n",
       "      <td>2018-12-24</td>\n",
       "      <td>37.037498</td>\n",
       "      <td>37.887501</td>\n",
       "      <td>36.647499</td>\n",
       "      <td>36.707500</td>\n",
       "      <td>35.326324</td>\n",
       "      <td>148676800</td>\n",
       "    </tr>\n",
       "    <tr>\n",
       "      <th>4775</th>\n",
       "      <td>2018-12-26</td>\n",
       "      <td>37.075001</td>\n",
       "      <td>39.307499</td>\n",
       "      <td>36.680000</td>\n",
       "      <td>39.292500</td>\n",
       "      <td>37.814053</td>\n",
       "      <td>234330000</td>\n",
       "    </tr>\n",
       "    <tr>\n",
       "      <th>4776</th>\n",
       "      <td>2018-12-27</td>\n",
       "      <td>38.959999</td>\n",
       "      <td>39.192501</td>\n",
       "      <td>37.517502</td>\n",
       "      <td>39.037498</td>\n",
       "      <td>37.568645</td>\n",
       "      <td>212468400</td>\n",
       "    </tr>\n",
       "    <tr>\n",
       "      <th>4777</th>\n",
       "      <td>2018-12-28</td>\n",
       "      <td>39.375000</td>\n",
       "      <td>39.630001</td>\n",
       "      <td>38.637501</td>\n",
       "      <td>39.057499</td>\n",
       "      <td>37.587887</td>\n",
       "      <td>169165600</td>\n",
       "    </tr>\n",
       "    <tr>\n",
       "      <th>4778</th>\n",
       "      <td>2018-12-31</td>\n",
       "      <td>39.632500</td>\n",
       "      <td>39.840000</td>\n",
       "      <td>39.119999</td>\n",
       "      <td>39.435001</td>\n",
       "      <td>37.951191</td>\n",
       "      <td>140014000</td>\n",
       "    </tr>\n",
       "  </tbody>\n",
       "</table>\n",
       "</div>"
      ],
      "text/plain": [
       "           Date       Open       High        Low      Close  Adj Close  \\\n",
       "4774 2018-12-24  37.037498  37.887501  36.647499  36.707500  35.326324   \n",
       "4775 2018-12-26  37.075001  39.307499  36.680000  39.292500  37.814053   \n",
       "4776 2018-12-27  38.959999  39.192501  37.517502  39.037498  37.568645   \n",
       "4777 2018-12-28  39.375000  39.630001  38.637501  39.057499  37.587887   \n",
       "4778 2018-12-31  39.632500  39.840000  39.119999  39.435001  37.951191   \n",
       "\n",
       "         Volume  \n",
       "4774  148676800  \n",
       "4775  234330000  \n",
       "4776  212468400  \n",
       "4777  169165600  \n",
       "4778  140014000  "
      ]
     },
     "execution_count": 11,
     "metadata": {},
     "output_type": "execute_result"
    }
   ],
   "source": [
    "if 'Date' in df.columns and 'Adj Close' in df.columns:\n",
    "        df=df.drop(['Date','Adj Close'],axis=1)\n",
    "df=df.reset_index()\n",
    "df.tail()\n"
   ]
  },
  {
   "cell_type": "code",
   "execution_count": 12,
   "id": "d2e9b5b8",
   "metadata": {},
   "outputs": [
    {
     "name": "stdout",
     "output_type": "stream",
     "text": [
      "Index(['Date', 'Open', 'High', 'Low', 'Close', 'Adj Close', 'Volume'], dtype='object')\n"
     ]
    }
   ],
   "source": [
    "print(df.columns)"
   ]
  },
  {
   "cell_type": "code",
   "execution_count": 13,
   "id": "96b3da44",
   "metadata": {},
   "outputs": [],
   "source": [
    "if 'Date' in df.columns and 'Adj Close' in df.columns:\n",
    "    df=df.drop(['Date','Adj Close'],axis=1)\n",
    "else:\n",
    "     print(\"One or both of the columns 'Date' and 'Adj Close' do not exist in the DataFrame.\")"
   ]
  },
  {
   "cell_type": "code",
   "execution_count": 14,
   "id": "76be0491",
   "metadata": {
    "scrolled": true
   },
   "outputs": [],
   "source": [
    "if 'Date' in df.columns and 'Adj Close' in df.columns:\n",
    "    df=df.drop(['Date','Adj Close'],axis=1)"
   ]
  },
  {
   "cell_type": "code",
   "execution_count": 15,
   "id": "94a85191",
   "metadata": {},
   "outputs": [
    {
     "data": {
      "text/html": [
       "<div>\n",
       "<style scoped>\n",
       "    .dataframe tbody tr th:only-of-type {\n",
       "        vertical-align: middle;\n",
       "    }\n",
       "\n",
       "    .dataframe tbody tr th {\n",
       "        vertical-align: top;\n",
       "    }\n",
       "\n",
       "    .dataframe thead th {\n",
       "        text-align: right;\n",
       "    }\n",
       "</style>\n",
       "<table border=\"1\" class=\"dataframe\">\n",
       "  <thead>\n",
       "    <tr style=\"text-align: right;\">\n",
       "      <th></th>\n",
       "      <th>Open</th>\n",
       "      <th>High</th>\n",
       "      <th>Low</th>\n",
       "      <th>Close</th>\n",
       "      <th>Volume</th>\n",
       "    </tr>\n",
       "  </thead>\n",
       "  <tbody>\n",
       "    <tr>\n",
       "      <th>0</th>\n",
       "      <td>0.936384</td>\n",
       "      <td>1.004464</td>\n",
       "      <td>0.907924</td>\n",
       "      <td>0.999442</td>\n",
       "      <td>535796800</td>\n",
       "    </tr>\n",
       "    <tr>\n",
       "      <th>1</th>\n",
       "      <td>0.966518</td>\n",
       "      <td>0.987723</td>\n",
       "      <td>0.903460</td>\n",
       "      <td>0.915179</td>\n",
       "      <td>512377600</td>\n",
       "    </tr>\n",
       "    <tr>\n",
       "      <th>2</th>\n",
       "      <td>0.926339</td>\n",
       "      <td>0.987165</td>\n",
       "      <td>0.919643</td>\n",
       "      <td>0.928571</td>\n",
       "      <td>778321600</td>\n",
       "    </tr>\n",
       "    <tr>\n",
       "      <th>3</th>\n",
       "      <td>0.947545</td>\n",
       "      <td>0.955357</td>\n",
       "      <td>0.848214</td>\n",
       "      <td>0.848214</td>\n",
       "      <td>767972800</td>\n",
       "    </tr>\n",
       "    <tr>\n",
       "      <th>4</th>\n",
       "      <td>0.861607</td>\n",
       "      <td>0.901786</td>\n",
       "      <td>0.852679</td>\n",
       "      <td>0.888393</td>\n",
       "      <td>460734400</td>\n",
       "    </tr>\n",
       "  </tbody>\n",
       "</table>\n",
       "</div>"
      ],
      "text/plain": [
       "       Open      High       Low     Close     Volume\n",
       "0  0.936384  1.004464  0.907924  0.999442  535796800\n",
       "1  0.966518  0.987723  0.903460  0.915179  512377600\n",
       "2  0.926339  0.987165  0.919643  0.928571  778321600\n",
       "3  0.947545  0.955357  0.848214  0.848214  767972800\n",
       "4  0.861607  0.901786  0.852679  0.888393  460734400"
      ]
     },
     "execution_count": 15,
     "metadata": {},
     "output_type": "execute_result"
    }
   ],
   "source": [
    "df.head()"
   ]
  },
  {
   "cell_type": "code",
   "execution_count": 16,
   "id": "891c665e",
   "metadata": {
    "scrolled": true
   },
   "outputs": [
    {
     "data": {
      "text/plain": [
       "[<matplotlib.lines.Line2D at 0x20803a1ac10>]"
      ]
     },
     "execution_count": 16,
     "metadata": {},
     "output_type": "execute_result"
    },
    {
     "data": {
      "image/png": "[encoded data removed]",
      "text/plain": [
       "<Figure size 640x480 with 1 Axes>"
      ]
     },
     "metadata": {},
     "output_type": "display_data"
    }
   ],
   "source": [
    "plt.plot(df.Close)"
   ]
  },
  {
   "cell_type": "code",
   "execution_count": 17,
   "id": "b57997df",
   "metadata": {},
   "outputs": [
    {
     "data": {
      "text/plain": [
       "0             NaN\n",
       "1             NaN\n",
       "2             NaN\n",
       "3             NaN\n",
       "4             NaN\n",
       "          ...    \n",
       "4774    51.285075\n",
       "4775    51.159525\n",
       "4776    51.029925\n",
       "4777    50.897825\n",
       "4778    50.774400\n",
       "Name: Close, Length: 4779, dtype: float64"
      ]
     },
     "execution_count": 17,
     "metadata": {},
     "output_type": "execute_result"
    }
   ],
   "source": [
    "ma100 = df.Close.rolling(100).mean()\n",
    "ma100"
   ]
  },
  {
   "cell_type": "code",
   "execution_count": 18,
   "id": "043f69df",
   "metadata": {},
   "outputs": [
    {
     "data": {
      "text/plain": [
       "[<matplotlib.lines.Line2D at 0x20805b003d0>]"
      ]
     },
     "execution_count": 18,
     "metadata": {},
     "output_type": "execute_result"
    },
    {
     "data": {
      "image/png": "[encoded data removed]",
      "text/plain": [
       "<Figure size 1200x600 with 1 Axes>"
      ]
     },
     "metadata": {},
     "output_type": "display_data"
    }
   ],
   "source": [
    "plt.figure(figsize=(12,6))\n",
    "plt.plot(df.Close)\n",
    "plt.plot(ma100,'r')"
   ]
  },
  {
   "cell_type": "code",
   "execution_count": 19,
   "id": "66b94079",
   "metadata": {},
   "outputs": [
    {
     "data": {
      "text/plain": [
       "0             NaN\n",
       "1             NaN\n",
       "2             NaN\n",
       "3             NaN\n",
       "4             NaN\n",
       "          ...    \n",
       "4774    48.436525\n",
       "4775    48.405838\n",
       "4776    48.376063\n",
       "4777    48.348300\n",
       "4778    48.322163\n",
       "Name: Close, Length: 4779, dtype: float64"
      ]
     },
     "execution_count": 19,
     "metadata": {},
     "output_type": "execute_result"
    }
   ],
   "source": [
    "ma200 = df.Close.rolling(200).mean()\n",
    "ma200"
   ]
  },
  {
   "cell_type": "code",
   "execution_count": 20,
   "id": "8714143d",
   "metadata": {},
   "outputs": [
    {
     "data": {
      "text/plain": [
       "[<matplotlib.lines.Line2D at 0x20805b7b070>]"
      ]
     },
     "execution_count": 20,
     "metadata": {},
     "output_type": "execute_result"
    },
    {
     "data": {
      "image/png": "[encoded data removed]",
      "text/plain": [
       "<Figure size 1200x600 with 1 Axes>"
      ]
     },
     "metadata": {},
     "output_type": "display_data"
    }
   ],
   "source": [
    "plt.figure(figsize=(12,6))\n",
    "plt.plot(df.Close)\n",
    "plt.plot(ma100,'r')\n",
    "plt.plot(ma200,'g')"
   ]
  },
  {
   "cell_type": "code",
   "execution_count": 21,
   "id": "7fafe08d",
   "metadata": {},
   "outputs": [
    {
     "data": {
      "text/plain": [
       "(4779, 5)"
      ]
     },
     "execution_count": 21,
     "metadata": {},
     "output_type": "execute_result"
    }
   ],
   "source": [
    "df.shape"
   ]
  },
  {
   "cell_type": "code",
   "execution_count": 22,
   "id": "c808e90c",
   "metadata": {},
   "outputs": [
    {
     "name": "stdout",
     "output_type": "stream",
     "text": [
      "(3345, 1)\n",
      "(1434, 1)\n"
     ]
    }
   ],
   "source": [
    "#splitting data into training and test set\n",
    "train_data= pd.DataFrame(df['Close'][0:int(len(df)*0.70) ])\n",
    "test_data = pd.DataFrame(df['Close'][int(len(df)*0.70):int(len(df))])\n",
    "\n",
    "print(train_data.shape)                                    \n",
    "print(test_data.shape)                                    "
   ]
  },
  {
   "cell_type": "code",
   "execution_count": 23,
   "id": "d19d96f9",
   "metadata": {},
   "outputs": [
    {
     "data": {
      "text/html": [
       "<div>\n",
       "<style scoped>\n",
       "    .dataframe tbody tr th:only-of-type {\n",
       "        vertical-align: middle;\n",
       "    }\n",
       "\n",
       "    .dataframe tbody tr th {\n",
       "        vertical-align: top;\n",
       "    }\n",
       "\n",
       "    .dataframe thead th {\n",
       "        text-align: right;\n",
       "    }\n",
       "</style>\n",
       "<table border=\"1\" class=\"dataframe\">\n",
       "  <thead>\n",
       "    <tr style=\"text-align: right;\">\n",
       "      <th></th>\n",
       "      <th>Close</th>\n",
       "    </tr>\n",
       "  </thead>\n",
       "  <tbody>\n",
       "    <tr>\n",
       "      <th>3345</th>\n",
       "      <td>14.504643</td>\n",
       "    </tr>\n",
       "    <tr>\n",
       "      <th>3346</th>\n",
       "      <td>14.480714</td>\n",
       "    </tr>\n",
       "    <tr>\n",
       "      <th>3347</th>\n",
       "      <td>14.585000</td>\n",
       "    </tr>\n",
       "    <tr>\n",
       "      <th>3348</th>\n",
       "      <td>14.900000</td>\n",
       "    </tr>\n",
       "    <tr>\n",
       "      <th>3349</th>\n",
       "      <td>15.361429</td>\n",
       "    </tr>\n",
       "  </tbody>\n",
       "</table>\n",
       "</div>"
      ],
      "text/plain": [
       "          Close\n",
       "3345  14.504643\n",
       "3346  14.480714\n",
       "3347  14.585000\n",
       "3348  14.900000\n",
       "3349  15.361429"
      ]
     },
     "execution_count": 23,
     "metadata": {},
     "output_type": "execute_result"
    }
   ],
   "source": [
    "train_data.head()\n",
    "test_data.head()"
   ]
  },
  {
   "cell_type": "code",
   "execution_count": 24,
   "id": "de2c84e0",
   "metadata": {},
   "outputs": [],
   "source": [
    "from sklearn.preprocessing import MinMaxScaler\n",
    "scaler =MinMaxScaler(feature_range=(0,1))"
   ]
  },
  {
   "cell_type": "code",
   "execution_count": 25,
   "id": "accc3fc7",
   "metadata": {},
   "outputs": [
    {
     "data": {
      "text/plain": [
       "array([[0.03080249],\n",
       "       [0.02741036],\n",
       "       [0.02794948],\n",
       "       ...,\n",
       "       [0.55423124],\n",
       "       [0.55204588],\n",
       "       [0.56374898]])"
      ]
     },
     "execution_count": 25,
     "metadata": {},
     "output_type": "execute_result"
    }
   ],
   "source": [
    "train_data_array=scaler.fit_transform(train_data)\n",
    "train_data_array"
   ]
  },
  {
   "cell_type": "code",
   "execution_count": 26,
   "id": "7c619d31",
   "metadata": {},
   "outputs": [],
   "source": [
    "x_train=[]\n",
    "y_train=[]\n",
    "\n",
    "for i in range(100,train_data.shape[0]):\n",
    "    x_train.append(train_data_array[i-100:i])\n",
    "    y_train.append(train_data_array[i:0])\n",
    "\n",
    "x_train,y_train=np.array(x_train),np.array(y_train)"
   ]
  },
  {
   "cell_type": "code",
   "execution_count": 27,
   "id": "e9fd2d4a",
   "metadata": {},
   "outputs": [],
   "source": [
    "\n",
    "import tensorflow.compat.v1 as tf\n",
    "from keras.layers import Dense, Dropout,LSTM\n",
    "from keras.models import Sequential"
   ]
  },
  {
   "cell_type": "markdown",
   "id": "ecf602ce",
   "metadata": {},
   "source": [
    "model=Sequential()\n",
    "model.add(LSTM(units=50,activation='relu',return_sequences=true))"
   ]
  },
  {
   "cell_type": "code",
   "execution_count": 28,
   "id": "cf1b85c0",
   "metadata": {},
   "outputs": [],
   "source": [
    "model=Sequential()\n",
    "model.add(LSTM(units=50,activation='relu',return_sequences=True,input_shape=(x_train.shape[1],1)))\n",
    "model.add(Dropout(0.2))\n",
    "\n",
    "model.add(LSTM(units=60,activation='relu',return_sequences=True))\n",
    "model.add(Dropout(0.3))\n",
    "\n",
    "model.add(LSTM(units=80,activation='relu',return_sequences=True))\n",
    "model.add(Dropout(0.4))\n",
    "\n",
    "model.add(LSTM(units=120,activation='relu'))\n",
    "model.add(Dropout(0.5))\n",
    "\n",
    "model.add(Dense(units = 1))"
   ]
  },
  {
   "cell_type": "code",
   "execution_count": 29,
   "id": "4283c256",
   "metadata": {},
   "outputs": [
    {
     "name": "stdout",
     "output_type": "stream",
     "text": [
      "Model: \"sequential\"\n",
      "_________________________________________________________________\n",
      " Layer (type)                Output Shape              Param #   \n",
      "=================================================================\n",
      " lstm (LSTM)                 (None, 100, 50)           10400     \n",
      "                                                                 \n",
      " dropout (Dropout)           (None, 100, 50)           0         \n",
      "                                                                 \n",
      " lstm_1 (LSTM)               (None, 100, 60)           26640     \n",
      "                                                                 \n",
      " dropout_1 (Dropout)         (None, 100, 60)           0         \n",
      "                                                                 \n",
      " lstm_2 (LSTM)               (None, 100, 80)           45120     \n",
      "                                                                 \n",
      " dropout_2 (Dropout)         (None, 100, 80)           0         \n",
      "                                                                 \n",
      " lstm_3 (LSTM)               (None, 120)               96480     \n",
      "                                                                 \n",
      " dropout_3 (Dropout)         (None, 120)               0         \n",
      "                                                                 \n",
      " dense (Dense)               (None, 1)                 121       \n",
      "                                                                 \n",
      "=================================================================\n",
      "Total params: 178761 (698.29 KB)\n",
      "Trainable params: 178761 (698.29 KB)\n",
      "Non-trainable params: 0 (0.00 Byte)\n",
      "_________________________________________________________________\n"
     ]
    }
   ],
   "source": [
    "model.summary()"
   ]
  },
  {
   "cell_type": "code",
   "execution_count": null,
   "id": "8e87a25a",
   "metadata": {},
   "outputs": [
    {
     "name": "stdout",
     "output_type": "stream",
     "text": [
      "Epoch 1/50\n",
      "102/102 [==============================] - 28s 223ms/step - loss: nan\n",
      "Epoch 2/50\n",
      "102/102 [==============================] - 22s 217ms/step - loss: nan\n",
      "Epoch 3/50\n",
      "102/102 [==============================] - 22s 215ms/step - loss: nan\n",
      "Epoch 4/50\n",
      "102/102 [==============================] - 22s 215ms/step - loss: nan\n",
      "Epoch 5/50\n",
      "102/102 [==============================] - 22s 215ms/step - loss: nan\n",
      "Epoch 6/50\n",
      "102/102 [==============================] - 22s 216ms/step - loss: nan\n",
      "Epoch 7/50\n",
      "102/102 [==============================] - 22s 214ms/step - loss: nan\n",
      "Epoch 8/50\n",
      "102/102 [==============================] - 22s 218ms/step - loss: nan\n",
      "Epoch 9/50\n",
      "102/102 [==============================] - 22s 212ms/step - loss: nan\n",
      "Epoch 10/50\n",
      "102/102 [==============================] - 22s 217ms/step - loss: nan\n",
      "Epoch 11/50\n",
      "102/102 [==============================] - 22s 218ms/step - loss: nan\n",
      "Epoch 12/50\n",
      "102/102 [==============================] - 22s 214ms/step - loss: nan\n",
      "Epoch 13/50\n",
      "102/102 [==============================] - 22s 217ms/step - loss: nan\n",
      "Epoch 14/50\n",
      "102/102 [==============================] - 22s 214ms/step - loss: nan\n",
      "Epoch 15/50\n",
      "102/102 [==============================] - 22s 216ms/step - loss: nan\n",
      "Epoch 16/50\n",
      "102/102 [==============================] - 22s 213ms/step - loss: nan\n",
      "Epoch 17/50\n",
      "102/102 [==============================] - 22s 213ms/step - loss: nan\n",
      "Epoch 18/50\n",
      "102/102 [==============================] - 22s 212ms/step - loss: nan\n",
      "Epoch 19/50\n",
      "102/102 [==============================] - 23s 223ms/step - loss: nan\n",
      "Epoch 20/50\n",
      "102/102 [==============================] - 24s 238ms/step - loss: nan\n",
      "Epoch 21/50\n",
      "102/102 [==============================] - 25s 244ms/step - loss: nan\n",
      "Epoch 22/50\n",
      "102/102 [==============================] - 26s 259ms/step - loss: nan\n",
      "Epoch 23/50\n",
      "102/102 [==============================] - 24s 235ms/step - loss: nan\n",
      "Epoch 24/50\n",
      "102/102 [==============================] - 23s 227ms/step - loss: nan\n",
      "Epoch 25/50\n",
      "102/102 [==============================] - 24s 231ms/step - loss: nan\n",
      "Epoch 26/50\n",
      "102/102 [==============================] - 25s 249ms/step - loss: nan\n",
      "Epoch 27/50\n",
      "102/102 [==============================] - 24s 232ms/step - loss: nan\n",
      "Epoch 28/50\n",
      "102/102 [==============================] - 26s 253ms/step - loss: nan\n",
      "Epoch 29/50\n",
      "102/102 [==============================] - 24s 235ms/step - loss: nan\n",
      "Epoch 30/50\n",
      "102/102 [==============================] - 27s 264ms/step - loss: nan\n",
      "Epoch 31/50\n",
      "102/102 [==============================] - 26s 255ms/step - loss: nan\n",
      "Epoch 32/50\n",
      "102/102 [==============================] - 23s 223ms/step - loss: nan\n",
      "Epoch 33/50\n",
      "102/102 [==============================] - 22s 220ms/step - loss: nan\n",
      "Epoch 34/50\n",
      "102/102 [==============================] - 25s 246ms/step - loss: nan\n",
      "Epoch 35/50\n",
      "102/102 [==============================] - 27s 266ms/step - loss: nan\n",
      "Epoch 36/50\n",
      "102/102 [==============================] - 25s 248ms/step - loss: nan\n",
      "Epoch 37/50\n",
      "102/102 [==============================] - 27s 268ms/step - loss: nan\n",
      "Epoch 38/50\n",
      "102/102 [==============================] - 23s 224ms/step - loss: nan\n",
      "Epoch 39/50\n",
      "102/102 [==============================] - 27s 264ms/step - loss: nan\n",
      "Epoch 40/50\n",
      " 76/102 [=====================>........] - ETA: 6s - loss: nan"
     ]
    }
   ],
   "source": [
    "model.compile(optimizer='adam', loss = 'mean_squared_error')\n",
    "model.fit(x_train,y_train,epochs=50)"
   ]
  },
  {
   "cell_type": "code",
   "execution_count": null,
   "id": "bc7c24fb",
   "metadata": {},
   "outputs": [],
   "source": [
    "model.save('my_keras_model.h5')"
   ]
  },
  {
   "cell_type": "code",
   "execution_count": null,
   "id": "9e29dce4",
   "metadata": {},
   "outputs": [],
   "source": [
    "test_data.head()"
   ]
  },
  {
   "cell_type": "code",
   "execution_count": null,
   "id": "30080d42",
   "metadata": {},
   "outputs": [],
   "source": [
    "past_100_days=train_data.tail(100)"
   ]
  },
  {
   "cell_type": "code",
   "execution_count": null,
   "id": "af81d65b",
   "metadata": {},
   "outputs": [],
   "source": [
    "final_df =past_100_days.append(train_data,ignore_index=True)\n"
   ]
  },
  {
   "cell_type": "code",
   "execution_count": null,
   "id": "c27dbb44",
   "metadata": {},
   "outputs": [],
   "source": [
    "final_df.head()"
   ]
  },
  {
   "cell_type": "code",
   "execution_count": null,
   "id": "620a3a82",
   "metadata": {},
   "outputs": [],
   "source": [
    "input_data=scaler.fit_transform(final_df)\n",
    "input_data"
   ]
  },
  {
   "cell_type": "code",
   "execution_count": null,
   "id": "6957dddb",
   "metadata": {},
   "outputs": [],
   "source": [
    "input_data.shape"
   ]
  },
  {
   "cell_type": "code",
   "execution_count": null,
   "id": "655ba547",
   "metadata": {},
   "outputs": [],
   "source": [
    "x_test = []\n",
    "y_test = []\n",
    "for i in range(100,input_data.shape[0]):\n",
    "    x_test.append(input_data[i-100:i])\n",
    "    y_test.append(input_data[i,0]) "
   ]
  },
  {
   "cell_type": "code",
   "execution_count": null,
   "id": "60627af4",
   "metadata": {},
   "outputs": [],
   "source": [
    "x_test,y_test =np.array(x_test),np.array(y_test)\n",
    "ptint(x_test.shape)\n",
    "ptint(y_test.shape)"
   ]
  },
  {
   "cell_type": "code",
   "execution_count": null,
   "id": "43c3e2dc",
   "metadata": {},
   "outputs": [],
   "source": [
    "#predict\n",
    "y_predicted =model.predict(x_test)"
   ]
  },
  {
   "cell_type": "code",
   "execution_count": null,
   "id": "b3918ee1",
   "metadata": {},
   "outputs": [],
   "source": [
    "y_predicted.shape"
   ]
  },
  {
   "cell_type": "code",
   "execution_count": null,
   "id": "b8f9641c",
   "metadata": {},
   "outputs": [],
   "source": []
  },
  {
   "cell_type": "code",
   "execution_count": null,
   "id": "e955b08a",
   "metadata": {},
   "outputs": [],
   "source": [
    "scaler.scale_"
   ]
  },
  {
   "cell_type": "code",
   "execution_count": null,
   "id": "df97b00b",
   "metadata": {},
   "outputs": [],
   "source": [
    "scale_factor=1/fcyfc\n",
    "y_predicted = y_predicted *scale_factor\n",
    "y_test=y_test*scale_factor"
   ]
  },
  {
   "cell_type": "code",
   "execution_count": null,
   "id": "77a3472e",
   "metadata": {},
   "outputs": [],
   "source": [
    "plt.figure(figsize=(12,6))\n",
    "plt.plot(y_test,'b',label='Original Price')\n",
    "plt.plot(y_predicted,'r',label='Predicted Price')\n",
    "plt.xlabel('Time')\n",
    "plt.xlabel('Price')\n",
    "plt.legend()\n",
    "plt.show()"
   ]
  }
 ],
 "metadata": {
  "kernelspec": {
   "display_name": "Python 3 (ipykernel)",
   "language": "python",
   "name": "python3"
  },
  "language_info": {
   "codemirror_mode": {
    "name": "ipython",
    "version": 3
   },
   "file_extension": ".py",
   "mimetype": "text/x-python",
   "name": "python",
   "nbconvert_exporter": "python",
   "pygments_lexer": "ipython3",
   "version": "3.9.13"
  }
 },
 "nbformat": 4,
 "nbformat_minor": 5
}
